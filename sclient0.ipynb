{
 "cells": [
  {
   "cell_type": "code",
   "execution_count": 2,
   "metadata": {
    "collapsed": false
   },
   "outputs": [],
   "source": [
    "import sys\n",
    "import os\n",
    "import socket\n",
    "from socket import error as SocketError\n",
    "import errno\n",
    "import time\n",
    "from contextlib import suppress\n",
    "import traceback\n",
    "import struct\n",
    "import ctypes\n",
    "\n",
    "import routines\n",
    "\n",
    "\n",
    "class SocketCommunication():\n",
    "    def __init__(self):\n",
    "        pass\n",
    "    \n",
    "    def specify_information(self, host, username, password, mkey=b\"asdf\"):\n",
    "        self.host=host\n",
    "        self.hostPort=55556\n",
    "        self.username=username\n",
    "        self.password=password\n",
    "        self.ssh=None\n",
    "        self.timeout=5\n",
    "        self.sendRoutines, self.receiveRoutines=routines.initRoutines(mkey)\n",
    "        \n",
    "    def connect(self):\n",
    "        self.socket=socket.socket(socket.AF_INET,socket.SOCK_STREAM)\n",
    "        self.socket.connect((self.host, self.hostPort))\n",
    "        self.socket.settimeout(self.timeout)\n",
    "        \n",
    "    def disconnect(self):\n",
    "        self.socket.shutdown(socket.SHUT_RDWR)\n",
    "        self.socket.close()\n",
    "        \n",
    "    def command(self, command):\n",
    "        command=command.encode()\n",
    "        rv=self.sendRoutines.toGetComeback(command, self.socket)\n",
    "        print(rv)\n",
    "    \n",
    "    def __del__(self):\n",
    "        try:\n",
    "            self.socket.shutdown(socket.SHUT_RDWR)\n",
    "            self.socket.close()\n",
    "        except AttributeError:\n",
    "            pass\n",
    "\n",
    "        "
   ]
  }
 ],
 "metadata": {
  "kernelspec": {
   "display_name": "Python 3",
   "language": "python",
   "name": "python3"
  },
  "language_info": {
   "codemirror_mode": {
    "name": "ipython",
    "version": 3
   },
   "file_extension": ".py",
   "mimetype": "text/x-python",
   "name": "python",
   "nbconvert_exporter": "python",
   "pygments_lexer": "ipython3",
   "version": "3.4.3"
  }
 },
 "nbformat": 4,
 "nbformat_minor": 0
}
